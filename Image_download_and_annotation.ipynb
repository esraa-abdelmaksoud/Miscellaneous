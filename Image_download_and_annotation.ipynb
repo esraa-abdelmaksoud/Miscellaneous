{
  "nbformat": 4,
  "nbformat_minor": 0,
  "metadata": {
    "colab": {
      "provenance": [],
      "authorship_tag": "ABX9TyOgXn75clcdDUBF0rUlygd/",
      "include_colab_link": true
    },
    "kernelspec": {
      "name": "python3",
      "display_name": "Python 3"
    },
    "language_info": {
      "name": "python"
    }
  },
  "cells": [
    {
      "cell_type": "markdown",
      "metadata": {
        "id": "view-in-github",
        "colab_type": "text"
      },
      "source": [
        "<a href=\"https://colab.research.google.com/github/esraa-abdelmaksoud/Miscellaneous/blob/main/Image_download_and_annotation.ipynb\" target=\"_parent\"><img src=\"https://colab.research.google.com/assets/colab-badge.svg\" alt=\"Open In Colab\"/></a>"
      ]
    },
    {
      "cell_type": "markdown",
      "source": [
        "### Downloading images"
      ],
      "metadata": {
        "id": "Ai-spegDZ5oM"
      }
    },
    {
      "cell_type": "code",
      "execution_count": null,
      "metadata": {
        "id": "zjssbi0oYiQ5"
      },
      "outputs": [],
      "source": [
        "!pip install simple_image_download==0.4"
      ]
    },
    {
      "cell_type": "code",
      "source": [
        "from simple_image_download import simple_image_download as simp\n",
        "response = simp.simple_image_download\n",
        "keywords = [\"single cardboard medication packaging box\", \"one cardboard drug box\"]\n",
        "for kw in keywords:\n",
        "  reponse().download(kw, 50)"
      ],
      "metadata": {
        "id": "OR4inAPCYpVX"
      },
      "execution_count": null,
      "outputs": []
    },
    {
      "cell_type": "code",
      "source": [
        "!pip install labelImg  #On PC and choose YOLO"
      ],
      "metadata": {
        "id": "OXRMmrw1aLJ-"
      },
      "execution_count": null,
      "outputs": []
    }
  ]
}