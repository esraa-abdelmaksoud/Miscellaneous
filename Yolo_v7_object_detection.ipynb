{
  "nbformat": 4,
  "nbformat_minor": 0,
  "metadata": {
    "colab": {
      "provenance": [],
      "mount_file_id": "14mBfhxhiO0laKKpRxMFmYeJBgilde4OE",
      "authorship_tag": "ABX9TyM2hZutHLyY/L2Nq6r7oyQX",
      "include_colab_link": true
    },
    "kernelspec": {
      "name": "python3",
      "display_name": "Python 3"
    },
    "language_info": {
      "name": "python"
    },
    "gpuClass": "standard"
  },
  "cells": [
    {
      "cell_type": "markdown",
      "metadata": {
        "id": "view-in-github",
        "colab_type": "text"
      },
      "source": [
        "<a href=\"https://colab.research.google.com/github/esraa-abdelmaksoud/Miscellaneous/blob/main/Yolo_v7_object_detection.ipynb\" target=\"_parent\"><img src=\"https://colab.research.google.com/assets/colab-badge.svg\" alt=\"Open In Colab\"/></a>"
      ]
    },
    {
      "cell_type": "code",
      "execution_count": 1,
      "metadata": {
        "colab": {
          "base_uri": "https://localhost:8080/"
        },
        "id": "6XsC7cy9CJFW",
        "outputId": "b3751abb-f103-4034-b77a-25f122d87963"
      },
      "outputs": [
        {
          "output_type": "stream",
          "name": "stdout",
          "text": [
            "Mounted at /content/gdrive\n"
          ]
        }
      ],
      "source": [
        "from google.colab import drive\n",
        "drive.mount('/content/gdrive')"
      ]
    },
    {
      "cell_type": "code",
      "source": [
        "%cd /content/gdrive/MyDrive"
      ],
      "metadata": {
        "colab": {
          "base_uri": "https://localhost:8080/"
        },
        "id": "dqWnt0GLCzPI",
        "outputId": "14fb82cc-413f-4c03-c6b2-93142e2f4540"
      },
      "execution_count": 2,
      "outputs": [
        {
          "output_type": "stream",
          "name": "stdout",
          "text": [
            "/content/gdrive/MyDrive\n"
          ]
        }
      ]
    },
    {
      "cell_type": "markdown",
      "source": [
        "### Creating directories and cloning repository"
      ],
      "metadata": {
        "id": "2ZdKKVoRDKJp"
      }
    },
    {
      "cell_type": "code",
      "source": [
        "import os\n",
        "\n",
        "if not os.path.isdir('YoloObjectDetection'):\n",
        "  os.makedirs('YoloObjectDetection')"
      ],
      "metadata": {
        "id": "rsNLv8pxDIyp"
      },
      "execution_count": 3,
      "outputs": []
    },
    {
      "cell_type": "code",
      "source": [
        "%cd YoloObjectDetection"
      ],
      "metadata": {
        "colab": {
          "base_uri": "https://localhost:8080/"
        },
        "id": "SF5Bf_aqDCw3",
        "outputId": "4b7b6da8-d799-42f2-afce-9dd9623d3d70"
      },
      "execution_count": 4,
      "outputs": [
        {
          "output_type": "stream",
          "name": "stdout",
          "text": [
            "/content/gdrive/MyDrive/YoloObjectDetection\n"
          ]
        }
      ]
    },
    {
      "cell_type": "code",
      "source": [
        "# !git clone https://github.com/WongKinYiu/yolov7"
      ],
      "metadata": {
        "id": "XI3EEeFAEezT"
      },
      "execution_count": 5,
      "outputs": []
    },
    {
      "cell_type": "code",
      "source": [
        "%cd yolov7"
      ],
      "metadata": {
        "colab": {
          "base_uri": "https://localhost:8080/"
        },
        "id": "BP-_KpTNE0q0",
        "outputId": "d7c1e3cd-68cc-45a6-9576-fd7679ce507c"
      },
      "execution_count": 6,
      "outputs": [
        {
          "output_type": "stream",
          "name": "stdout",
          "text": [
            "/content/gdrive/MyDrive/YoloObjectDetection/yolov7\n"
          ]
        }
      ]
    },
    {
      "cell_type": "markdown",
      "source": [
        "### Downloading the pre-trained model"
      ],
      "metadata": {
        "id": "dciU92JYFNHO"
      }
    },
    {
      "cell_type": "code",
      "source": [
        "# !wget https://github.com/WongKinYiu/yolov7/releases/download/v0.1/yolov7.pt"
      ],
      "metadata": {
        "id": "5ruBv0yVFJGh"
      },
      "execution_count": 7,
      "outputs": []
    },
    {
      "cell_type": "code",
      "source": [
        "# Set random seed to detect.py line 17\n",
        "# Stop printing in line 181 in datasets.py"
      ],
      "metadata": {
        "id": "g93MWV8mI9Dg"
      },
      "execution_count": 14,
      "outputs": []
    },
    {
      "cell_type": "code",
      "source": [
        "!python detect.py --weights yolov7.pt --conf 0.5 --img-size 640 --source img2.jpg"
      ],
      "metadata": {
        "colab": {
          "base_uri": "https://localhost:8080/"
        },
        "id": "rDTFmaUEMtRt",
        "outputId": "9d541802-a309-4469-b5fc-27a9eb962ae1"
      },
      "execution_count": 9,
      "outputs": [
        {
          "output_type": "stream",
          "name": "stdout",
          "text": [
            "Namespace(agnostic_nms=False, augment=False, classes=None, conf_thres=0.5, device='', exist_ok=False, img_size=640, iou_thres=0.45, name='exp', no_trace=False, nosave=False, project='runs/detect', save_conf=False, save_txt=False, source='img2.jpg', update=False, view_img=False, weights=['yolov7.pt'])\n",
            "YOLOR 🚀 v0.1-115-g072f76c torch 1.12.1+cu113 CPU\n",
            "\n",
            "Fusing layers... \n",
            "RepConv.fuse_repvgg_block\n",
            "RepConv.fuse_repvgg_block\n",
            "RepConv.fuse_repvgg_block\n",
            "Model Summary: 306 layers, 36905341 parameters, 6652669 gradients\n",
            " Convert model to Traced-model... \n",
            " traced_script_module saved! \n",
            " model is traced! \n",
            "\n",
            "/usr/local/lib/python3.7/dist-packages/torch/functional.py:478: UserWarning: torch.meshgrid: in an upcoming release, it will be required to pass the indexing argument. (Triggered internally at  ../aten/src/ATen/native/TensorShape.cpp:2894.)\n",
            "  return _VF.meshgrid(tensors, **kwargs)  # type: ignore[attr-defined]\n",
            "1 sports ball, Done. (1649.4ms) Inference, (21.1ms) NMS\n",
            " The image with the result is saved in: runs/detect/exp/img2.jpg\n",
            "Done. (2.059s)\n"
          ]
        }
      ]
    },
    {
      "cell_type": "code",
      "source": [
        "!python detect.py --weights yolov7.pt --conf 0.5 --img-size 640 --source img1.jpg"
      ],
      "metadata": {
        "colab": {
          "base_uri": "https://localhost:8080/"
        },
        "id": "W0pGxn9iNXBe",
        "outputId": "0d58a109-283f-4ff8-e0aa-220f058e9b07"
      },
      "execution_count": 10,
      "outputs": [
        {
          "output_type": "stream",
          "name": "stdout",
          "text": [
            "Namespace(agnostic_nms=False, augment=False, classes=None, conf_thres=0.5, device='', exist_ok=False, img_size=640, iou_thres=0.45, name='exp', no_trace=False, nosave=False, project='runs/detect', save_conf=False, save_txt=False, source='img1.jpg', update=False, view_img=False, weights=['yolov7.pt'])\n",
            "YOLOR 🚀 v0.1-115-g072f76c torch 1.12.1+cu113 CPU\n",
            "\n",
            "Fusing layers... \n",
            "RepConv.fuse_repvgg_block\n",
            "RepConv.fuse_repvgg_block\n",
            "RepConv.fuse_repvgg_block\n",
            "Model Summary: 306 layers, 36905341 parameters, 6652669 gradients\n",
            " Convert model to Traced-model... \n",
            " traced_script_module saved! \n",
            " model is traced! \n",
            "\n",
            "/usr/local/lib/python3.7/dist-packages/torch/functional.py:478: UserWarning: torch.meshgrid: in an upcoming release, it will be required to pass the indexing argument. (Triggered internally at  ../aten/src/ATen/native/TensorShape.cpp:2894.)\n",
            "  return _VF.meshgrid(tensors, **kwargs)  # type: ignore[attr-defined]\n",
            "1 dog, Done. (1404.3ms) Inference, (1.7ms) NMS\n",
            " The image with the result is saved in: runs/detect/exp2/img1.jpg\n",
            "Done. (1.907s)\n"
          ]
        }
      ]
    },
    {
      "cell_type": "code",
      "source": [
        "!python detect.py --weights yolov7.pt --conf 0.5 --img-size 640 --source streetvideo.mp4"
      ],
      "metadata": {
        "colab": {
          "base_uri": "https://localhost:8080/"
        },
        "id": "1oPIl7H7OYDf",
        "outputId": "c8fc6384-ac0d-48eb-de4c-4b41baa2199a"
      },
      "execution_count": 13,
      "outputs": [
        {
          "output_type": "stream",
          "name": "stdout",
          "text": [
            "Namespace(agnostic_nms=False, augment=False, classes=None, conf_thres=0.5, device='', exist_ok=False, img_size=640, iou_thres=0.45, name='exp', no_trace=False, nosave=False, project='runs/detect', save_conf=False, save_txt=False, source='streetvideo.mp4', update=False, view_img=False, weights=['yolov7.pt'])\n",
            "YOLOR 🚀 v0.1-115-g072f76c torch 1.12.1+cu113 CPU\n",
            "\n",
            "Fusing layers... \n",
            "RepConv.fuse_repvgg_block\n",
            "RepConv.fuse_repvgg_block\n",
            "RepConv.fuse_repvgg_block\n",
            "Model Summary: 306 layers, 36905341 parameters, 6652669 gradients\n",
            " Convert model to Traced-model... \n",
            " traced_script_module saved! \n",
            " model is traced! \n",
            "\n",
            "/usr/local/lib/python3.7/dist-packages/torch/functional.py:478: UserWarning: torch.meshgrid: in an upcoming release, it will be required to pass the indexing argument. (Triggered internally at  ../aten/src/ATen/native/TensorShape.cpp:2894.)\n",
            "  return _VF.meshgrid(tensors, **kwargs)  # type: ignore[attr-defined]\n",
            "11 persons, 5 cars, 3 traffic lights, 3 potted plants, Done. (1387.3ms) Inference, (1.7ms) NMS\n",
            "10 persons, 5 cars, 4 traffic lights, 3 potted plants, Done. (1310.7ms) Inference, (1.3ms) NMS\n",
            "12 persons, 3 cars, 2 traffic lights, 3 potted plants, Done. (1356.2ms) Inference, (1.2ms) NMS\n",
            "12 persons, 3 cars, 4 traffic lights, 3 potted plants, Done. (1330.4ms) Inference, (1.5ms) NMS\n",
            "11 persons, 2 cars, 3 traffic lights, 3 potted plants, Done. (1315.5ms) Inference, (1.5ms) NMS\n",
            "13 persons, 4 cars, 3 traffic lights, 3 potted plants, Done. (1351.4ms) Inference, (1.0ms) NMS\n",
            "13 persons, 2 cars, 4 traffic lights, 3 potted plants, Done. (1518.5ms) Inference, (1.4ms) NMS\n",
            "13 persons, 3 cars, 3 traffic lights, 2 potted plants, Done. (1595.2ms) Inference, (1.5ms) NMS\n",
            "13 persons, 2 cars, 3 traffic lights, 2 potted plants, Done. (1334.7ms) Inference, (1.7ms) NMS\n",
            "14 persons, 2 cars, 3 traffic lights, 3 potted plants, Done. (1323.0ms) Inference, (1.5ms) NMS\n",
            "13 persons, 3 cars, 4 traffic lights, 2 potted plants, Done. (1333.1ms) Inference, (1.5ms) NMS\n",
            "13 persons, 3 cars, 3 traffic lights, 2 potted plants, Done. (1317.4ms) Inference, (1.4ms) NMS\n",
            "14 persons, 2 cars, 3 traffic lights, 3 potted plants, Done. (1337.4ms) Inference, (1.4ms) NMS\n",
            "14 persons, 4 cars, 1 truck, 4 traffic lights, 3 potted plants, Done. (1331.6ms) Inference, (1.5ms) NMS\n",
            "14 persons, 3 cars, 5 traffic lights, 3 potted plants, Done. (1324.2ms) Inference, (1.8ms) NMS\n",
            "15 persons, 3 cars, 1 truck, 3 traffic lights, 3 potted plants, Done. (1320.4ms) Inference, (1.6ms) NMS\n",
            "15 persons, 4 cars, 1 truck, 3 traffic lights, 3 potted plants, Done. (1349.4ms) Inference, (1.5ms) NMS\n",
            "15 persons, 2 cars, 4 traffic lights, 3 potted plants, Done. (1335.1ms) Inference, (1.5ms) NMS\n",
            "16 persons, 1 car, 2 traffic lights, 1 backpack, 4 potted plants, Done. (1322.8ms) Inference, (1.5ms) NMS\n",
            "16 persons, 1 car, 2 traffic lights, 1 backpack, 5 potted plants, Done. (1327.9ms) Inference, (1.5ms) NMS\n",
            "16 persons, 2 cars, 4 traffic lights, 1 backpack, 4 potted plants, Done. (1333.8ms) Inference, (1.5ms) NMS\n",
            "16 persons, 2 cars, 3 traffic lights, 1 backpack, 5 potted plants, Done. (1328.5ms) Inference, (1.9ms) NMS\n",
            "13 persons, 3 cars, 1 truck, 4 traffic lights, 1 backpack, 4 potted plants, Done. (1329.4ms) Inference, (1.7ms) NMS\n",
            "14 persons, 5 cars, 1 truck, 3 traffic lights, 1 backpack, 5 potted plants, Done. (1324.9ms) Inference, (1.5ms) NMS\n",
            "14 persons, 5 cars, 3 traffic lights, 1 backpack, 5 potted plants, Done. (1335.6ms) Inference, (1.6ms) NMS\n",
            "12 persons, 5 cars, 5 traffic lights, 1 backpack, 4 potted plants, Done. (1334.5ms) Inference, (1.4ms) NMS\n",
            "12 persons, 4 cars, 6 traffic lights, 1 backpack, 4 potted plants, Done. (1314.6ms) Inference, (1.5ms) NMS\n",
            "11 persons, 4 cars, 4 traffic lights, 1 backpack, 4 potted plants, Done. (1317.1ms) Inference, (1.5ms) NMS\n",
            "12 persons, 3 cars, 1 truck, 5 traffic lights, 1 backpack, 4 potted plants, Done. (1345.3ms) Inference, (1.5ms) NMS\n",
            "13 persons, 5 cars, 2 trucks, 3 traffic lights, 1 backpack, 4 potted plants, Done. (1318.3ms) Inference, (2.1ms) NMS\n",
            "11 persons, 4 cars, 1 truck, 5 traffic lights, 1 backpack, 3 potted plants, Done. (1317.9ms) Inference, (1.7ms) NMS\n",
            "11 persons, 4 cars, 1 truck, 5 traffic lights, 1 backpack, 3 potted plants, Done. (1349.0ms) Inference, (1.5ms) NMS\n",
            "12 persons, 4 cars, 2 trucks, 5 traffic lights, 1 backpack, 3 potted plants, Done. (1330.9ms) Inference, (1.4ms) NMS\n",
            "10 persons, 4 cars, 2 trucks, 4 traffic lights, 1 backpack, 3 potted plants, Done. (1335.8ms) Inference, (1.5ms) NMS\n",
            "11 persons, 4 cars, 1 truck, 5 traffic lights, 1 backpack, 3 potted plants, Done. (2028.0ms) Inference, (2.0ms) NMS\n",
            "11 persons, 5 cars, 2 trucks, 3 traffic lights, 1 backpack, 3 potted plants, Done. (2162.4ms) Inference, (2.0ms) NMS\n",
            "11 persons, 5 cars, 2 trucks, 4 traffic lights, 1 backpack, 2 potted plants, Done. (1528.0ms) Inference, (1.4ms) NMS\n",
            "12 persons, 4 cars, 1 truck, 5 traffic lights, 1 backpack, 2 potted plants, Done. (1352.4ms) Inference, (1.5ms) NMS\n",
            "10 persons, 4 cars, 2 trucks, 5 traffic lights, 1 backpack, 2 potted plants, Done. (1394.1ms) Inference, (1.6ms) NMS\n",
            "12 persons, 3 cars, 2 trucks, 3 traffic lights, 1 backpack, 2 potted plants, Done. (1343.3ms) Inference, (1.5ms) NMS\n",
            "12 persons, 3 cars, 2 trucks, 2 traffic lights, 1 backpack, 1 handbag, 2 potted plants, Done. (1328.9ms) Inference, (2.1ms) NMS\n",
            "10 persons, 3 cars, 1 traffic light, 1 backpack, 2 potted plants, Done. (1335.7ms) Inference, (1.4ms) NMS\n",
            "12 persons, 4 cars, 1 truck, 1 traffic light, 1 backpack, 2 potted plants, Done. (1339.0ms) Inference, (1.5ms) NMS\n",
            "12 persons, 4 cars, 2 traffic lights, 1 backpack, 2 potted plants, Done. (1340.7ms) Inference, (1.5ms) NMS\n",
            "14 persons, 4 cars, 3 traffic lights, 1 backpack, 3 potted plants, Done. (1329.6ms) Inference, (1.5ms) NMS\n",
            "15 persons, 3 cars, 1 traffic light, 1 backpack, 2 potted plants, Done. (1328.6ms) Inference, (1.5ms) NMS\n",
            "14 persons, 2 cars, 3 traffic lights, 1 backpack, 2 potted plants, Done. (1341.8ms) Inference, (1.5ms) NMS\n",
            "14 persons, 2 cars, 1 truck, 2 traffic lights, 1 backpack, 1 handbag, 1 potted plant, Done. (1323.5ms) Inference, (1.5ms) NMS\n",
            "15 persons, 2 cars, 1 truck, 2 traffic lights, 1 backpack, 2 handbags, 1 potted plant, Done. (1324.7ms) Inference, (1.5ms) NMS\n",
            "15 persons, 3 cars, 3 traffic lights, 1 backpack, 1 potted plant, Done. (1331.8ms) Inference, (1.6ms) NMS\n",
            "15 persons, 2 cars, 3 traffic lights, 1 backpack, 1 potted plant, Done. (1320.5ms) Inference, (1.5ms) NMS\n",
            "18 persons, 1 car, 3 traffic lights, 1 backpack, 1 potted plant, Done. (1330.8ms) Inference, (1.7ms) NMS\n",
            "17 persons, 2 cars, 3 traffic lights, 1 backpack, 2 handbags, 2 potted plants, Done. (1346.8ms) Inference, (1.6ms) NMS\n",
            "16 persons, 2 cars, 3 traffic lights, 1 tie, 1 potted plant, Done. (1336.7ms) Inference, (1.5ms) NMS\n",
            "15 persons, 1 car, 3 traffic lights, 1 tie, 1 potted plant, Done. (1331.3ms) Inference, (1.5ms) NMS\n",
            "14 persons, 3 cars, 3 traffic lights, 1 tie, 1 potted plant, Done. (1434.5ms) Inference, (1.5ms) NMS\n",
            "14 persons, 2 cars, 2 traffic lights, 1 tie, 1 potted plant, Done. (1476.5ms) Inference, (1.5ms) NMS\n",
            "17 persons, 3 cars, 3 traffic lights, 1 handbag, 1 potted plant, Done. (1435.3ms) Inference, (1.5ms) NMS\n",
            "15 persons, 2 cars, 4 traffic lights, 1 tie, Done. (1445.2ms) Inference, (2.4ms) NMS\n",
            "16 persons, 1 car, 4 traffic lights, Done. (1391.1ms) Inference, (1.5ms) NMS\n",
            "15 persons, 2 cars, 3 traffic lights, Done. (1342.0ms) Inference, (1.5ms) NMS\n",
            "15 persons, 2 cars, 5 traffic lights, 1 potted plant, Done. (1374.7ms) Inference, (1.5ms) NMS\n",
            "16 persons, 1 car, 5 traffic lights, Done. (1354.7ms) Inference, (1.5ms) NMS\n",
            "17 persons, 2 cars, 5 traffic lights, 1 handbag, 1 potted plant, Done. (1316.0ms) Inference, (1.5ms) NMS\n",
            "19 persons, 2 cars, 5 traffic lights, 2 handbags, 1 potted plant, Done. (1454.6ms) Inference, (1.5ms) NMS\n",
            "17 persons, 3 cars, 6 traffic lights, 2 handbags, 1 potted plant, Done. (1448.3ms) Inference, (1.4ms) NMS\n",
            "18 persons, 3 cars, 4 traffic lights, 1 handbag, 1 potted plant, Done. (1353.2ms) Inference, (1.5ms) NMS\n",
            "18 persons, 2 cars, 5 traffic lights, 2 handbags, 1 potted plant, Done. (1525.9ms) Inference, (1.4ms) NMS\n",
            "17 persons, 2 cars, 4 traffic lights, 2 handbags, 1 potted plant, Done. (1342.0ms) Inference, (1.4ms) NMS\n",
            "19 persons, 2 cars, 4 traffic lights, 2 handbags, Done. (1427.6ms) Inference, (2.3ms) NMS\n",
            "19 persons, 1 car, 5 traffic lights, 2 handbags, Done. (1401.2ms) Inference, (1.6ms) NMS\n",
            "18 persons, 2 cars, 4 traffic lights, 1 handbag, Done. (1348.8ms) Inference, (1.5ms) NMS\n",
            "18 persons, 1 car, 5 traffic lights, 2 handbags, Done. (1379.3ms) Inference, (1.6ms) NMS\n",
            "18 persons, 1 car, 4 traffic lights, 2 handbags, Done. (1398.4ms) Inference, (1.7ms) NMS\n",
            "18 persons, 1 car, 3 traffic lights, 2 handbags, 1 clock, Done. (1367.8ms) Inference, (1.5ms) NMS\n",
            "17 persons, 1 car, 4 traffic lights, 2 handbags, 1 clock, Done. (1421.9ms) Inference, (1.5ms) NMS\n",
            "17 persons, 2 cars, 3 traffic lights, 1 handbag, 1 clock, Done. (1497.7ms) Inference, (1.5ms) NMS\n",
            "15 persons, 1 car, 4 traffic lights, 1 handbag, Done. (1491.7ms) Inference, (1.5ms) NMS\n",
            "16 persons, 2 cars, 4 traffic lights, 1 backpack, 2 handbags, Done. (1409.4ms) Inference, (1.7ms) NMS\n",
            "15 persons, 1 car, 4 traffic lights, 1 backpack, 1 handbag, Done. (1448.3ms) Inference, (2.5ms) NMS\n",
            "15 persons, 1 car, 2 traffic lights, 1 backpack, 1 handbag, Done. (1441.9ms) Inference, (1.6ms) NMS\n",
            "15 persons, 3 traffic lights, 1 backpack, 2 handbags, Done. (1358.2ms) Inference, (1.4ms) NMS\n",
            "15 persons, 3 traffic lights, 1 backpack, 1 handbag, Done. (1328.4ms) Inference, (1.5ms) NMS\n",
            "16 persons, 4 traffic lights, 1 backpack, 1 handbag, Done. (1326.4ms) Inference, (1.5ms) NMS\n",
            "15 persons, 3 traffic lights, 1 backpack, 2 handbags, Done. (1347.5ms) Inference, (1.6ms) NMS\n",
            "15 persons, 3 traffic lights, 1 backpack, 1 handbag, Done. (1324.2ms) Inference, (1.5ms) NMS\n",
            "15 persons, 3 traffic lights, 1 backpack, 2 handbags, Done. (1375.1ms) Inference, (1.5ms) NMS\n",
            "13 persons, 3 traffic lights, 1 backpack, 2 handbags, Done. (1580.2ms) Inference, (1.5ms) NMS\n",
            "13 persons, 3 traffic lights, 1 backpack, 2 handbags, 1 potted plant, Done. (1482.6ms) Inference, (1.5ms) NMS\n",
            "13 persons, 3 traffic lights, 1 backpack, 2 handbags, 1 potted plant, Done. (1393.3ms) Inference, (1.5ms) NMS\n",
            "12 persons, 3 traffic lights, 1 backpack, 2 handbags, 1 potted plant, Done. (1335.9ms) Inference, (1.5ms) NMS\n",
            "14 persons, 1 car, 2 traffic lights, 1 backpack, 2 handbags, 1 potted plant, Done. (1336.1ms) Inference, (1.5ms) NMS\n",
            "13 persons, 1 car, 2 traffic lights, 1 backpack, 1 handbag, 1 potted plant, Done. (1332.9ms) Inference, (1.5ms) NMS\n",
            "15 persons, 1 car, 2 traffic lights, 1 backpack, 2 handbags, 1 potted plant, Done. (1330.5ms) Inference, (1.5ms) NMS\n",
            "14 persons, 1 car, 1 traffic light, 1 backpack, 2 handbags, 1 potted plant, Done. (1356.7ms) Inference, (1.4ms) NMS\n",
            "13 persons, 1 car, 2 traffic lights, 1 backpack, 2 handbags, 1 potted plant, Done. (1328.7ms) Inference, (1.4ms) NMS\n",
            "14 persons, 2 cars, 2 traffic lights, 1 backpack, 2 handbags, 1 potted plant, Done. (1322.1ms) Inference, (1.5ms) NMS\n",
            "14 persons, 2 cars, 2 traffic lights, 1 backpack, 1 handbag, 1 potted plant, Done. (1332.4ms) Inference, (1.5ms) NMS\n",
            "13 persons, 2 cars, 2 traffic lights, 1 backpack, 1 potted plant, Done. (1326.5ms) Inference, (1.7ms) NMS\n",
            "12 persons, 2 cars, 2 traffic lights, 1 backpack, 1 potted plant, Done. (1330.9ms) Inference, (1.4ms) NMS\n",
            "11 persons, 2 cars, 2 traffic lights, 1 backpack, 1 handbag, 1 potted plant, Done. (1333.7ms) Inference, (1.4ms) NMS\n",
            "12 persons, 2 cars, 2 traffic lights, 1 backpack, 1 handbag, 2 potted plants, Done. (1341.6ms) Inference, (1.5ms) NMS\n",
            "11 persons, 2 cars, 2 traffic lights, 1 backpack, 1 handbag, 2 potted plants, Done. (1338.7ms) Inference, (1.5ms) NMS\n",
            "12 persons, 3 cars, 1 traffic light, 1 backpack, 1 potted plant, Done. (1333.2ms) Inference, (1.4ms) NMS\n",
            "13 persons, 3 cars, 1 traffic light, 1 backpack, 2 handbags, 2 potted plants, 1 tv, Done. (1345.5ms) Inference, (1.5ms) NMS\n",
            "12 persons, 3 cars, 1 traffic light, 1 backpack, 1 handbag, 2 potted plants, 1 tv, Done. (1336.1ms) Inference, (1.5ms) NMS\n",
            "13 persons, 3 cars, 1 traffic light, 1 backpack, 2 potted plants, Done. (1344.2ms) Inference, (1.5ms) NMS\n",
            "12 persons, 3 cars, 1 traffic light, 1 backpack, 2 potted plants, 1 tv, Done. (1336.1ms) Inference, (1.5ms) NMS\n",
            "12 persons, 4 cars, 1 traffic light, 1 backpack, 2 potted plants, Done. (1338.7ms) Inference, (1.5ms) NMS\n",
            "12 persons, 4 cars, 1 backpack, 2 potted plants, Done. (1347.8ms) Inference, (1.4ms) NMS\n",
            "12 persons, 4 cars, 1 traffic light, 1 backpack, 2 potted plants, 1 tv, Done. (1335.7ms) Inference, (1.4ms) NMS\n",
            "12 persons, 3 cars, 1 traffic light, 1 backpack, 3 potted plants, 1 tv, Done. (1334.9ms) Inference, (1.4ms) NMS\n",
            "11 persons, 3 cars, 1 traffic light, 1 backpack, 1 handbag, 2 potted plants, Done. (1358.0ms) Inference, (1.6ms) NMS\n",
            "12 persons, 3 cars, 1 traffic light, 1 backpack, 1 handbag, 2 potted plants, Done. (1340.1ms) Inference, (1.5ms) NMS\n",
            "12 persons, 3 cars, 1 traffic light, 1 backpack, 1 handbag, 2 potted plants, Done. (1343.9ms) Inference, (1.6ms) NMS\n",
            "11 persons, 3 cars, 1 traffic light, 1 backpack, 2 potted plants, 1 tv, Done. (1341.5ms) Inference, (1.5ms) NMS\n",
            "10 persons, 3 cars, 1 traffic light, 1 backpack, 2 potted plants, 1 tv, Done. (1350.4ms) Inference, (1.5ms) NMS\n",
            "11 persons, 3 cars, 1 traffic light, 1 backpack, 2 potted plants, 1 tv, Done. (1344.4ms) Inference, (2.2ms) NMS\n",
            "12 persons, 3 cars, 1 traffic light, 2 potted plants, 2 tvs, Done. (1331.2ms) Inference, (1.4ms) NMS\n",
            "13 persons, 2 cars, 1 traffic light, 1 handbag, 2 potted plants, 2 tvs, Done. (1340.5ms) Inference, (1.4ms) NMS\n",
            "12 persons, 3 cars, 1 traffic light, 1 handbag, 2 potted plants, 2 tvs, Done. (1333.2ms) Inference, (1.5ms) NMS\n",
            "13 persons, 3 cars, 1 traffic light, 2 potted plants, 2 tvs, Done. (1338.2ms) Inference, (1.4ms) NMS\n",
            "13 persons, 1 car, 2 traffic lights, 2 potted plants, 2 tvs, Done. (1348.9ms) Inference, (1.5ms) NMS\n",
            "13 persons, 2 cars, 1 traffic light, 2 potted plants, 2 tvs, Done. (1383.3ms) Inference, (1.9ms) NMS\n",
            "14 persons, 1 car, 1 traffic light, 1 handbag, 2 potted plants, 2 tvs, Done. (1370.8ms) Inference, (1.5ms) NMS\n",
            "15 persons, 1 car, 1 traffic light, 2 potted plants, 2 tvs, Done. (1339.2ms) Inference, (1.6ms) NMS\n",
            "16 persons, 2 cars, 1 traffic light, 1 handbag, 2 potted plants, 2 tvs, Done. (1332.1ms) Inference, (1.5ms) NMS\n",
            "16 persons, 2 cars, 1 traffic light, 2 handbags, 2 potted plants, 1 tv, Done. (1315.3ms) Inference, (1.5ms) NMS\n",
            "17 persons, 2 cars, 1 traffic light, 3 handbags, 2 potted plants, 1 tv, Done. (1330.1ms) Inference, (1.4ms) NMS\n",
            "14 persons, 2 cars, 1 traffic light, 2 handbags, 2 potted plants, 1 tv, Done. (1333.1ms) Inference, (1.5ms) NMS\n",
            "15 persons, 1 car, 1 traffic light, 3 handbags, 2 potted plants, Done. (1335.2ms) Inference, (1.5ms) NMS\n",
            "16 persons, 1 car, 1 traffic light, 1 handbag, 2 potted plants, 1 tv, Done. (1326.1ms) Inference, (1.4ms) NMS\n",
            "14 persons, 1 traffic light, 1 handbag, 2 potted plants, 1 tv, Done. (1334.2ms) Inference, (1.4ms) NMS\n",
            "14 persons, 1 traffic light, 2 potted plants, Done. (1343.4ms) Inference, (1.7ms) NMS\n",
            "15 persons, 1 car, 1 traffic light, 1 handbag, 1 tie, 2 potted plants, Done. (1324.2ms) Inference, (1.5ms) NMS\n",
            "16 persons, 2 cars, 1 traffic light, 3 handbags, 2 potted plants, Done. (1333.7ms) Inference, (1.4ms) NMS\n",
            "15 persons, 1 car, 1 traffic light, 1 handbag, 1 tie, 2 potted plants, Done. (1324.0ms) Inference, (1.4ms) NMS\n",
            "15 persons, 2 traffic lights, 1 tie, 2 potted plants, Done. (1325.0ms) Inference, (1.4ms) NMS\n",
            "14 persons, 1 traffic light, 1 handbag, 2 potted plants, Done. (1331.8ms) Inference, (1.5ms) NMS\n",
            "13 persons, 1 traffic light, 1 handbag, 2 potted plants, Done. (1329.5ms) Inference, (1.5ms) NMS\n",
            "14 persons, 1 car, 1 traffic light, 2 potted plants, Done. (1313.0ms) Inference, (1.4ms) NMS\n",
            "12 persons, 1 traffic light, 2 potted plants, Done. (1366.1ms) Inference, (1.4ms) NMS\n",
            "12 persons, 1 traffic light, 2 potted plants, Done. (1321.8ms) Inference, (1.5ms) NMS\n",
            "12 persons, 1 traffic light, 1 handbag, 2 potted plants, Done. (1336.4ms) Inference, (1.5ms) NMS\n",
            "13 persons, 1 traffic light, 1 tie, 2 potted plants, 1 tv, Done. (1332.2ms) Inference, (1.4ms) NMS\n",
            "14 persons, 1 traffic light, 1 tie, 2 potted plants, Done. (1329.4ms) Inference, (1.4ms) NMS\n",
            "14 persons, 1 car, 1 traffic light, 1 tie, 2 potted plants, Done. (1337.7ms) Inference, (1.5ms) NMS\n",
            "12 persons, 1 traffic light, 2 potted plants, Done. (1718.7ms) Inference, (2.0ms) NMS\n",
            "15 persons, 1 traffic light, 2 potted plants, Done. (2232.6ms) Inference, (2.1ms) NMS\n",
            "14 persons, 1 car, 1 traffic light, 1 tie, 2 potted plants, Done. (1753.7ms) Inference, (1.5ms) NMS\n",
            "15 persons, 1 traffic light, 1 umbrella, 2 potted plants, Done. (1328.9ms) Inference, (1.5ms) NMS\n",
            "14 persons, 1 traffic light, 2 potted plants, Done. (1340.4ms) Inference, (1.5ms) NMS\n",
            "12 persons, 1 traffic light, 2 potted plants, 1 tv, Done. (1326.3ms) Inference, (1.4ms) NMS\n",
            "13 persons, 1 traffic light, 1 backpack, 2 potted plants, 1 tv, Done. (1324.4ms) Inference, (1.4ms) NMS\n",
            "12 persons, 1 traffic light, 2 potted plants, Done. (1332.2ms) Inference, (1.5ms) NMS\n",
            "14 persons, 1 car, 1 traffic light, 2 potted plants, Done. (1330.2ms) Inference, (1.5ms) NMS\n",
            "13 persons, 1 car, 1 traffic light, 2 potted plants, Done. (1333.1ms) Inference, (1.4ms) NMS\n",
            "14 persons, 2 cars, 1 traffic light, 2 potted plants, Done. (1348.3ms) Inference, (1.6ms) NMS\n",
            "14 persons, 1 car, 1 traffic light, 2 potted plants, 1 tv, Done. (1338.5ms) Inference, (1.4ms) NMS\n",
            "14 persons, 1 car, 1 traffic light, 2 potted plants, Done. (1344.8ms) Inference, (1.6ms) NMS\n",
            "15 persons, 1 traffic light, 2 potted plants, 1 tv, Done. (1334.4ms) Inference, (1.6ms) NMS\n",
            "15 persons, 1 car, 1 handbag, 2 potted plants, Done. (1326.2ms) Inference, (1.6ms) NMS\n",
            "15 persons, 1 car, 1 tie, 2 potted plants, Done. (1334.5ms) Inference, (1.5ms) NMS\n",
            "13 persons, 2 cars, 2 potted plants, Done. (1340.8ms) Inference, (1.6ms) NMS\n",
            "16 persons, 1 car, 2 potted plants, Done. (1338.2ms) Inference, (1.5ms) NMS\n",
            "14 persons, 2 cars, 2 potted plants, Done. (1328.6ms) Inference, (1.4ms) NMS\n",
            "13 persons, 1 car, 2 potted plants, Done. (1348.9ms) Inference, (1.4ms) NMS\n",
            "14 persons, 1 car, 1 tie, 2 potted plants, Done. (1329.9ms) Inference, (1.6ms) NMS\n",
            "15 persons, 1 car, 2 potted plants, Done. (1330.3ms) Inference, (1.5ms) NMS\n",
            "14 persons, 2 potted plants, Done. (1339.4ms) Inference, (1.4ms) NMS\n",
            "15 persons, 2 potted plants, Done. (1331.5ms) Inference, (1.6ms) NMS\n",
            "13 persons, 1 handbag, 2 potted plants, Done. (1330.2ms) Inference, (1.5ms) NMS\n",
            "14 persons, 2 potted plants, Done. (1343.7ms) Inference, (1.5ms) NMS\n",
            "17 persons, 1 handbag, 2 potted plants, Done. (1325.7ms) Inference, (1.5ms) NMS\n",
            "14 persons, 1 handbag, 2 potted plants, 1 tv, Done. (1326.1ms) Inference, (1.5ms) NMS\n",
            "13 persons, 1 traffic light, 2 potted plants, Done. (1340.9ms) Inference, (1.5ms) NMS\n",
            "14 persons, 1 traffic light, 2 potted plants, Done. (1342.7ms) Inference, (1.5ms) NMS\n",
            "12 persons, 1 traffic light, 2 potted plants, Done. (1322.9ms) Inference, (1.4ms) NMS\n",
            "14 persons, 1 traffic light, 2 potted plants, Done. (1338.6ms) Inference, (1.5ms) NMS\n",
            "14 persons, 1 handbag, 2 potted plants, Done. (1328.9ms) Inference, (1.7ms) NMS\n",
            "14 persons, 2 potted plants, Done. (1335.7ms) Inference, (1.5ms) NMS\n",
            "17 persons, 2 potted plants, Done. (1338.0ms) Inference, (1.4ms) NMS\n",
            "17 persons, 1 handbag, 2 potted plants, Done. (1323.9ms) Inference, (1.5ms) NMS\n",
            "17 persons, 1 handbag, 2 potted plants, Done. (1326.7ms) Inference, (1.5ms) NMS\n",
            "17 persons, 2 potted plants, Done. (1344.7ms) Inference, (1.5ms) NMS\n",
            "18 persons, 1 car, 2 potted plants, Done. (1333.0ms) Inference, (1.7ms) NMS\n",
            "17 persons, 2 potted plants, Done. (1337.7ms) Inference, (1.8ms) NMS\n",
            "20 persons, 1 car, 2 potted plants, Done. (1344.8ms) Inference, (1.4ms) NMS\n",
            "17 persons, 1 car, 1 traffic light, 2 potted plants, Done. (1337.0ms) Inference, (1.5ms) NMS\n",
            "20 persons, 1 car, 1 traffic light, 1 potted plant, Done. (1330.6ms) Inference, (1.4ms) NMS\n",
            "18 persons, 1 traffic light, 1 handbag, 2 potted plants, Done. (1353.7ms) Inference, (1.5ms) NMS\n",
            "19 persons, 1 car, 1 potted plant, Done. (1344.6ms) Inference, (1.5ms) NMS\n",
            "17 persons, 2 cars, 1 potted plant, Done. (1330.4ms) Inference, (1.4ms) NMS\n",
            "19 persons, 1 potted plant, Done. (1326.5ms) Inference, (1.4ms) NMS\n",
            "20 persons, 1 potted plant, Done. (1340.3ms) Inference, (2.2ms) NMS\n",
            "19 persons, 1 car, 1 potted plant, Done. (1344.4ms) Inference, (1.4ms) NMS\n",
            "16 persons, 1 car, 1 potted plant, Done. (1341.0ms) Inference, (1.5ms) NMS\n",
            "16 persons, 1 car, 1 potted plant, Done. (1329.3ms) Inference, (1.4ms) NMS\n",
            "20 persons, 1 car, 1 potted plant, Done. (1333.1ms) Inference, (1.5ms) NMS\n",
            "17 persons, 1 car, 1 handbag, 1 potted plant, Done. (1348.4ms) Inference, (1.5ms) NMS\n",
            "20 persons, 2 cars, 1 potted plant, Done. (1336.5ms) Inference, (1.4ms) NMS\n",
            "20 persons, 1 car, Done. (1321.4ms) Inference, (1.4ms) NMS\n",
            "19 persons, 3 cars, 1 potted plant, Done. (1337.9ms) Inference, (1.7ms) NMS\n",
            "16 persons, 2 cars, 1 potted plant, Done. (1329.5ms) Inference, (1.5ms) NMS\n",
            "16 persons, 1 car, 1 potted plant, Done. (1335.3ms) Inference, (1.7ms) NMS\n",
            "16 persons, 1 car, 1 potted plant, Done. (1343.4ms) Inference, (1.4ms) NMS\n",
            "18 persons, 2 cars, 1 potted plant, Done. (1330.2ms) Inference, (1.5ms) NMS\n",
            "16 persons, 1 car, 1 potted plant, Done. (1335.3ms) Inference, (1.5ms) NMS\n",
            "18 persons, 2 cars, 1 potted plant, Done. (1332.3ms) Inference, (1.4ms) NMS\n",
            "17 persons, 2 cars, 1 potted plant, Done. (1368.1ms) Inference, (1.4ms) NMS\n",
            "16 persons, 1 car, Done. (1331.0ms) Inference, (1.8ms) NMS\n",
            "16 persons, 2 cars, Done. (1325.3ms) Inference, (1.4ms) NMS\n",
            "16 persons, 3 cars, Done. (1330.4ms) Inference, (1.5ms) NMS\n",
            "14 persons, 3 cars, Done. (1333.1ms) Inference, (1.9ms) NMS\n",
            "12 persons, 3 cars, Done. (1326.2ms) Inference, (1.3ms) NMS\n",
            "13 persons, 2 cars, Done. (1330.2ms) Inference, (1.4ms) NMS\n",
            "14 persons, 2 cars, Done. (1338.0ms) Inference, (2.0ms) NMS\n",
            "14 persons, 2 cars, Done. (1324.2ms) Inference, (1.4ms) NMS\n",
            "14 persons, 2 cars, Done. (1324.5ms) Inference, (1.3ms) NMS\n",
            "12 persons, 1 car, 1 handbag, Done. (1319.0ms) Inference, (1.4ms) NMS\n",
            "13 persons, 1 handbag, Done. (1332.4ms) Inference, (1.4ms) NMS\n",
            "12 persons, Done. (1328.7ms) Inference, (1.4ms) NMS\n",
            "12 persons, 1 car, Done. (1324.1ms) Inference, (1.4ms) NMS\n",
            "13 persons, Done. (1323.3ms) Inference, (1.4ms) NMS\n",
            "13 persons, Done. (1333.7ms) Inference, (1.6ms) NMS\n",
            "14 persons, Done. (1326.1ms) Inference, (1.4ms) NMS\n",
            "14 persons, 1 tv, Done. (1319.1ms) Inference, (1.4ms) NMS\n",
            "13 persons, 1 tv, Done. (1326.8ms) Inference, (1.6ms) NMS\n",
            "11 persons, Done. (1329.3ms) Inference, (1.4ms) NMS\n",
            "10 persons, Done. (1324.9ms) Inference, (1.4ms) NMS\n",
            "13 persons, Done. (1332.9ms) Inference, (1.4ms) NMS\n",
            "13 persons, Done. (1328.2ms) Inference, (1.4ms) NMS\n",
            "13 persons, Done. (1340.9ms) Inference, (1.4ms) NMS\n",
            "14 persons, Done. (1327.5ms) Inference, (1.4ms) NMS\n",
            "13 persons, Done. (1337.5ms) Inference, (1.4ms) NMS\n",
            "13 persons, Done. (1332.5ms) Inference, (1.4ms) NMS\n",
            "13 persons, Done. (1327.1ms) Inference, (1.4ms) NMS\n",
            "12 persons, Done. (1329.5ms) Inference, (1.4ms) NMS\n",
            "12 persons, Done. (1340.0ms) Inference, (1.6ms) NMS\n",
            "14 persons, Done. (1333.2ms) Inference, (1.4ms) NMS\n",
            "12 persons, Done. (1338.5ms) Inference, (1.6ms) NMS\n",
            "9 persons, Done. (1329.2ms) Inference, (1.4ms) NMS\n",
            "9 persons, Done. (1331.3ms) Inference, (1.3ms) NMS\n",
            "10 persons, Done. (1321.6ms) Inference, (1.4ms) NMS\n",
            "9 persons, Done. (1322.4ms) Inference, (1.3ms) NMS\n",
            "8 persons, Done. (1321.3ms) Inference, (1.4ms) NMS\n",
            "8 persons, Done. (1319.9ms) Inference, (1.5ms) NMS\n",
            "8 persons, Done. (1351.0ms) Inference, (1.3ms) NMS\n",
            "7 persons, Done. (1333.3ms) Inference, (1.5ms) NMS\n",
            "8 persons, Done. (1323.6ms) Inference, (1.3ms) NMS\n",
            "9 persons, Done. (1327.5ms) Inference, (1.4ms) NMS\n",
            "10 persons, Done. (1323.7ms) Inference, (1.4ms) NMS\n",
            "9 persons, Done. (1324.1ms) Inference, (1.4ms) NMS\n",
            "9 persons, Done. (1344.6ms) Inference, (1.3ms) NMS\n",
            "11 persons, Done. (1333.5ms) Inference, (1.4ms) NMS\n",
            "Done. (355.971s)\n"
          ]
        }
      ]
    }
  ]
}