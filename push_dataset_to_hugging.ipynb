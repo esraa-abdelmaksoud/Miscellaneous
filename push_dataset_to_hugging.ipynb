{
 "cells": [
  {
   "cell_type": "code",
   "execution_count": 2,
   "metadata": {},
   "outputs": [
    {
     "data": {
      "application/vnd.jupyter.widget-view+json": {
       "model_id": "825a6300591c444088e81ed356d7cc79",
       "version_major": 2,
       "version_minor": 0
      },
      "text/plain": [
       "VBox(children=(HTML(value='<center> <img\\nsrc=https://huggingface.co/front/assets/huggingface_logo-noborder.sv…"
      ]
     },
     "metadata": {},
     "output_type": "display_data"
    }
   ],
   "source": [
    "from huggingface_hub import login\n",
    "# from huggingface_hub.datasets import push_to_hub\n",
    "login()"
   ]
  },
  {
   "cell_type": "code",
   "execution_count": 3,
   "metadata": {},
   "outputs": [
    {
     "data": {
      "text/plain": [
       "'https://huggingface.co/datasets/esraa-abdelmaksoud/Mobile-Captured-Pharmaceutical-Packages/tree/main/Mobile-Captured-Pharmaceutical-Packages/train-test'"
      ]
     },
     "execution_count": 3,
     "metadata": {},
     "output_type": "execute_result"
    }
   ],
   "source": [
    "# Upload folders\n",
    "from huggingface_hub import HfApi\n",
    "api = HfApi()\n",
    "api.upload_folder(\n",
    "    folder_path=\"/mnt/E/datasets/med_packs/train\",\n",
    "    path_in_repo=\"train\",\n",
    "    repo_id=\"esraa-abdelmaksoud/Mobile-Captured-Pharmaceutical-Packages\",\n",
    "    repo_type=\"dataset\",\n",
    "    ignore_patterns=\"**/logs/*.txt\",\n",
    ")\n",
    "api.upload_folder(\n",
    "    folder_path=\"/mnt/E/datasets/med_packs/test\",\n",
    "    path_in_repo=\"test\",\n",
    "    repo_id=\"esraa-abdelmaksoud/Mobile-Captured-Pharmaceutical-Packages\",\n",
    "    repo_type=\"dataset\",\n",
    "    ignore_patterns=\"**/logs/*.txt\",\n",
    ")"
   ]
  },
  {
   "cell_type": "code",
   "execution_count": 8,
   "metadata": {},
   "outputs": [
    {
     "data": {
      "text/plain": [
       "CommitInfo(commit_url='https://huggingface.co/datasets/esraa-abdelmaksoud/Mobile-Captured-Pharmaceutical-Packages/commit/907abcdb97fb135caf7eb97e0aed0be00aa1f2ee', commit_message='delete train and test folders', commit_description='', oid='907abcdb97fb135caf7eb97e0aed0be00aa1f2ee', pr_url=None, pr_revision=None, pr_num=None)"
      ]
     },
     "execution_count": 8,
     "metadata": {},
     "output_type": "execute_result"
    }
   ],
   "source": [
    "# Delete folder\n",
    "api = HfApi()\n",
    "api.delete_folder(\n",
    "    path_in_repo=\"Mobile-Captured-Pharmaceutical-Packages/train-test\",\n",
    "    repo_id=\"esraa-abdelmaksoud/Mobile-Captured-Pharmaceutical-Packages\",\n",
    "    repo_type=\"dataset\",\n",
    "    commit_message=\"delete train and test folders\"\n",
    ")"
   ]
  }
 ],
 "metadata": {
  "kernelspec": {
   "display_name": "Python 3",
   "language": "python",
   "name": "python3"
  },
  "language_info": {
   "codemirror_mode": {
    "name": "ipython",
    "version": 3
   },
   "file_extension": ".py",
   "mimetype": "text/x-python",
   "name": "python",
   "nbconvert_exporter": "python",
   "pygments_lexer": "ipython3",
   "version": "3.10.6 (main, Nov 14 2022, 16:10:14) [GCC 11.3.0]"
  },
  "orig_nbformat": 4,
  "vscode": {
   "interpreter": {
    "hash": "916dbcbb3f70747c44a77c7bcd40155683ae19c65e1c03b4aa3499c5328201f1"
   }
  }
 },
 "nbformat": 4,
 "nbformat_minor": 2
}
