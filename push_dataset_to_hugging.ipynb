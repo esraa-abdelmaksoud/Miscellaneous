{
 "cells": [
  {
   "cell_type": "code",
   "execution_count": 1,
   "metadata": {},
   "outputs": [
    {
     "data": {
      "application/vnd.jupyter.widget-view+json": {
       "model_id": "646c1f29cfa548a58d20dc74cd35ffad",
       "version_major": 2,
       "version_minor": 0
      },
      "text/plain": [
       "VBox(children=(HTML(value='<center> <img\\nsrc=https://huggingface.co/front/assets/huggingface_logo-noborder.sv…"
      ]
     },
     "metadata": {},
     "output_type": "display_data"
    }
   ],
   "source": [
    "from huggingface_hub import login\n",
    "# from huggingface_hub.datasets import push_to_hub\n",
    "login()"
   ]
  },
  {
   "cell_type": "code",
   "execution_count": 4,
   "metadata": {},
   "outputs": [],
   "source": [
    "# Get folders names to upload one by one\n",
    "# This is to avoid timeout\n",
    "import os\n",
    "\n",
    "folders = os.listdir(\"/mnt/E/datasets/med_packs/train\")"
   ]
  },
  {
   "cell_type": "code",
   "execution_count": 5,
   "metadata": {},
   "outputs": [],
   "source": [
    "# Upload folders\n",
    "from huggingface_hub import HfApi\n",
    "for folder in folders:\n",
    "    api = HfApi()\n",
    "    api.upload_folder(\n",
    "        folder_path=f\"/mnt/E/datasets/med_packs/train/{folder}\",\n",
    "        path_in_repo=f\"train/{folder}\",\n",
    "        repo_id=\"esraa-abdelmaksoud/Mobile-Captured-Pharmaceutical-Packages\",\n",
    "        repo_type=\"dataset\",\n",
    "        ignore_patterns=\"**/logs/*.txt\",\n",
    "    )\n",
    "    api.upload_folder(\n",
    "        folder_path=f\"/mnt/E/datasets/med_packs/test/{folder}\",\n",
    "        path_in_repo=f\"test/{folder}\",\n",
    "        repo_id=\"esraa-abdelmaksoud/Mobile-Captured-Pharmaceutical-Packages\",\n",
    "        repo_type=\"dataset\",\n",
    "        ignore_patterns=\"**/logs/*.txt\",\n",
    "    )"
   ]
  },
  {
   "cell_type": "code",
   "execution_count": 8,
   "metadata": {},
   "outputs": [
    {
     "data": {
      "text/plain": [
       "CommitInfo(commit_url='https://huggingface.co/datasets/esraa-abdelmaksoud/Mobile-Captured-Pharmaceutical-Packages/commit/907abcdb97fb135caf7eb97e0aed0be00aa1f2ee', commit_message='delete train and test folders', commit_description='', oid='907abcdb97fb135caf7eb97e0aed0be00aa1f2ee', pr_url=None, pr_revision=None, pr_num=None)"
      ]
     },
     "execution_count": 8,
     "metadata": {},
     "output_type": "execute_result"
    }
   ],
   "source": [
    "# Delete folder\n",
    "api = HfApi()\n",
    "api.delete_folder(\n",
    "    path_in_repo=\"Mobile-Captured-Pharmaceutical-Packages/train-test\",\n",
    "    repo_id=\"esraa-abdelmaksoud/Mobile-Captured-Pharmaceutical-Packages\",\n",
    "    repo_type=\"dataset\",\n",
    "    commit_message=\"delete train and test folders\"\n",
    ")"
   ]
  }
 ],
 "metadata": {
  "kernelspec": {
   "display_name": "Python 3",
   "language": "python",
   "name": "python3"
  },
  "language_info": {
   "codemirror_mode": {
    "name": "ipython",
    "version": 3
   },
   "file_extension": ".py",
   "mimetype": "text/x-python",
   "name": "python",
   "nbconvert_exporter": "python",
   "pygments_lexer": "ipython3",
   "version": "3.10.6"
  },
  "orig_nbformat": 4,
  "vscode": {
   "interpreter": {
    "hash": "916dbcbb3f70747c44a77c7bcd40155683ae19c65e1c03b4aa3499c5328201f1"
   }
  }
 },
 "nbformat": 4,
 "nbformat_minor": 2
}
